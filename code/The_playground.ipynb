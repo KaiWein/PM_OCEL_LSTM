{
 "cells": [
  {
   "cell_type": "code",
   "execution_count": 1,
   "metadata": {},
   "outputs": [
    {
     "name": "stdout",
     "output_type": "stream",
     "text": [
      "Settings:\n",
      "flatten_by: Orders\n",
      "single_log: False\n",
      "complete: False\n"
     ]
    }
   ],
   "source": [
    "from functions import (prep, folding, inbu, LSTM_model)\n",
    "\n",
    "import numpy as np\n",
    "import pandas as pd\n",
    "from matplotlib import pyplot as plt\n",
    "np.random.seed(42)\n",
    "source = \"running-example\"\n",
    "flatten_by = 'Orders' # input(\"Enter the value for flatten_by (Orders, Items or Packages): \")\n",
    "single_log = 'False' # input(\"Enter the value for single_log (True/False): \")\n",
    "complete = 'False' # input(\"Enter the value for complete (True/False): \")\n",
    "testing_other_remaining = False\n",
    "add_customer = 0\n",
    "\n",
    "# Error handling for invalid input values\n",
    "if flatten_by not in ['Orders', 'Items', 'Packages']:\n",
    "    raise ValueError(\"Wrong Input: flatten_by must be one of ['Orders', 'Items', 'Packages']\")\n",
    "\n",
    "if single_log.lower() not in ['true', 'false', '1', '0']:\n",
    "    raise ValueError(\"Wrong Input: single_log must be a boolean value (True/False)\")\n",
    "\n",
    "if complete.lower() not in ['true', 'false', '1', '0']:\n",
    "    raise ValueError(\"Wrong Input: complete must be a boolean value (True/False)\")\n",
    "\n",
    "# Convert input values to boolean\n",
    "single_log = single_log.lower() in ['true', '1']\n",
    "complete = complete.lower() in ['true', '1'] \n",
    "if complete:\n",
    "    csvname = flatten_by  + '_complete'\n",
    "    fl = None\n",
    "else:\n",
    "    csvname = flatten_by  + '_filter'\n",
    "    fl = prep.act_filter(flatten_by )\n",
    "\n",
    "time_feat = ['Time_Diff', 'Time_Since_Start', 'Time_Since_Midnight','Weekday','Position']\n",
    "other_features = ['Amount_Items','In_Package']\n",
    "drops_col_order = [\"weight\", \"price\", \"Event_ID\", 'Products']\n",
    "print(\"Settings:\")\n",
    "print(f\"flatten_by: {flatten_by}\")\n",
    "print(f\"single_log: {single_log}\")\n",
    "print(f\"complete: {complete}\")"
   ]
  },
  {
   "cell_type": "code",
   "execution_count": 2,
   "metadata": {},
   "outputs": [
    {
     "name": "stdout",
     "output_type": "stream",
     "text": [
      "{'place order': 'A', 'confirm order': 'B', 'pay order': 'C', 'payment reminder': 'D'}\n",
      "{'Marco Pegoraro': 'a', 'Gyunam Park': 'b', 'Majid Rafiei': 'c', 'Junxiong Gao': 'd', 'Seran Uysal': 'e', 'Christina Rensinghof': 'f', 'Wil van der Aalst': 'g', 'Christine Dobbert': 'h', 'Luis Santos': 'i', 'Kefang Ding': 'j', 'Mohammadreza Fani Sani': 'k', 'Tobias Brockhoff': 'l', 'Anahita Farhang Ghahfarokhi': 'm', 'Mahnaz Qafari': 'n', 'Claudia Graf': 'o', 'Mahsa Bafrani': 'p', 'Lisa Mannel': 'q'}\n",
      "divisor: 318986.03791832976\n",
      "divisor2: 528541.2252072459\n",
      "divisorTR: 679045.650752226\n",
      "divisor3: 591967.807807143\n",
      "6514\n"
     ]
    }
   ],
   "source": [
    "## prep the ocel and readin\n",
    "ocel, act_dict, cust_dict = prep.prepare_flat_ocel(source, flatten_on= flatten_by , filter= fl)\n",
    "print(act_dict)\n",
    "print(cust_dict)\n",
    "## create the enriched and some more preprocessing as well as saving the single and enriched versions\n",
    "ocel = prep.gen_enriched_single_plus_csv(OCEL = ocel,flatted_by = flatten_by ,csvname = csvname, drops_col= drops_col_order)\n",
    "## adding features\n",
    "ocel =prep.generate_features(ocel)\n",
    "divisor = np.mean(ocel['Time_Diff'])  # average time between events\n",
    "divisor2 = np.mean(ocel['Time_Since_Start'])  # average time between current and first events\n",
    "divisorTR = np.mean(ocel['Remaining_Time'])  # average time instance remaining\n",
    "divisor3 = ocel.groupby('Case_ID')['Time_Since_Start'].apply(lambda x: (x.iloc[-1] - x).mean()).mean()\n",
    "\n",
    "print(f\"divisor: {divisor}\")\n",
    "print(f\"divisor2: {divisor2}\")\n",
    "print(f\"divisorTR: {divisorTR}\")\n",
    "print(f\"divisor3: {divisor3}\")\n",
    "print(len(ocel))\n",
    "\n",
    "#folding the data \n",
    "ocel_train, ocel_test = folding.folding_train_test(ocel)"
   ]
  },
  {
   "cell_type": "code",
   "execution_count": 3,
   "metadata": {},
   "outputs": [
    {
     "data": {
      "text/plain": [
       "['Amount_Items', 'In_Package']"
      ]
     },
     "execution_count": 3,
     "metadata": {},
     "output_type": "execute_result"
    }
   ],
   "source": [
    "other_features *(1-int(single_log))"
   ]
  },
  {
   "attachments": {},
   "cell_type": "markdown",
   "metadata": {},
   "source": [
    "defining the features"
   ]
  },
  {
   "cell_type": "code",
   "execution_count": 4,
   "metadata": {},
   "outputs": [
    {
     "name": "stdout",
     "output_type": "stream",
     "text": [
      "Length of act_feat: 4, Length of cust_feat: 0\n",
      "Number of train cases: 4366, Max trace length: 9, Number of features: 11\n"
     ]
    }
   ],
   "source": [
    "\n",
    "act_feat = list(filter(lambda k: k.startswith('Act_') and not k.startswith('Next_Act_'), ocel_train.columns))\n",
    "act_feat.remove('Act_!')\n",
    "act_feat_dict = {index: value.replace('Act_', '') for index, value in enumerate(act_feat)}\n",
    "target_act_feat = list(filter(lambda k: k.startswith('Next_Act_') and not k.startswith('Act_'), ocel_train.columns))\n",
    "target_act_feat_dict = {index: value.replace('Next_Act_', '') for index, value in enumerate(target_act_feat)}\n",
    "\n",
    "cust_feat = list(filter(lambda k: 'Cust_' in k, ocel_train.columns)) * (1 - int(single_log)) * add_customer\n",
    "\n",
    "feature_select = act_feat + cust_feat + time_feat + other_features *(1 - int(single_log))\n",
    "print(f\"Length of act_feat: {len(act_feat)}, Length of cust_feat: {len(cust_feat)}\")\n",
    "\n",
    "## define dimensions of inputs\n",
    "max_trace_length = prep.gen_traces_and_maxlength_of_trace(ocel)[1]\n",
    "target_act_length = len(target_act_feat)\n",
    "number_of_train_cases = len(ocel_train)\n",
    "num_of_features = len(feature_select)\n",
    "print(f\"Number of train cases: {number_of_train_cases}, Max trace length: {max_trace_length}, Number of features: {num_of_features}\")\n",
    "\n"
   ]
  },
  {
   "attachments": {},
   "cell_type": "markdown",
   "metadata": {},
   "source": [
    "get the inputs "
   ]
  },
  {
   "cell_type": "code",
   "execution_count": 5,
   "metadata": {},
   "outputs": [
    {
     "name": "stdout",
     "output_type": "stream",
     "text": [
      "{0: '!', 1: 'A', 2: 'B', 3: 'C', 4: 'D'}\n",
      "{0: 'A', 1: 'B', 2: 'C', 3: 'D'}\n",
      "11\n"
     ]
    }
   ],
   "source": [
    "print(target_act_feat_dict)\n",
    "print(act_feat_dict)\n",
    "print(num_of_features)"
   ]
  },
  {
   "cell_type": "code",
   "execution_count": 6,
   "metadata": {},
   "outputs": [
    {
     "name": "stdout",
     "output_type": "stream",
     "text": [
      "Shape of X_train: (4366, 9, 11)\n",
      "This matches the desired shape (number_of_train_cases, max_trace_length, num_of_features): (4366, 9, 11) => True\n",
      "Shape of y_train_a: (4366, 5), this matches the desired shape (number_of_train_cases, target_act_length): (4366, 5) => True\n",
      "Shape of y_train_t: (4366,), this matches the desired shape (number_of_train_cases, ): (4366,) => True\n",
      "Shape of y_train_tr: (4366,), this matches the desired shape (number_of_train_cases, ): (4366,) => True\n"
     ]
    }
   ],
   "source": [
    "X_train,y_train_a, y_train_t, y_train_tr = inbu.generating_inputs(OCEL=ocel_train,\n",
    "                                                                  num_of_features=num_of_features,\n",
    "                                                                  max_trace_length=max_trace_length,\n",
    "                                                                  taf=target_act_feat,\n",
    "                                                                  act=act_feat,\n",
    "                                                                  custf=cust_feat,\n",
    "                                                                  divisor_next=divisor,\n",
    "                                                                  divisor_since=divisor2,\n",
    "                                                                  divisor_remaining=divisorTR, \n",
    "                                                                  single= single_log,\n",
    "                                                                  test = testing_other_remaining)\n",
    "\n",
    "print(f\"Shape of X_train: {X_train.shape}\")\n",
    "print(f\"This matches the desired shape (number_of_train_cases, max_trace_length, num_of_features): {(number_of_train_cases, max_trace_length, num_of_features)} => {X_train.shape ==(number_of_train_cases, max_trace_length, num_of_features)}\")\n",
    "print(f\"Shape of y_train_a: {y_train_a.shape}, this matches the desired shape (number_of_train_cases, target_act_length): {(number_of_train_cases, target_act_length)} => {y_train_a.shape ==(number_of_train_cases, target_act_length)}\")\n",
    "print(f\"Shape of y_train_t: {y_train_t.shape}, this matches the desired shape (number_of_train_cases, ): {(number_of_train_cases, )} => {y_train_t.shape ==(number_of_train_cases, )}\")\n",
    "print(f\"Shape of y_train_tr: {y_train_tr.shape}, this matches the desired shape (number_of_train_cases, ): {(number_of_train_cases, )} => {y_train_tr.shape ==(number_of_train_cases, )}\")\n"
   ]
  },
  {
   "cell_type": "code",
   "execution_count": 7,
   "metadata": {},
   "outputs": [
    {
     "name": "stdout",
     "output_type": "stream",
     "text": [
      "Build model...\n",
      "Epoch 1/500\n",
      "388/388 - 9s - loss: 1.9101 - act_output_loss: 0.5041 - time_output_loss: 0.8980 - timeR_output_loss: 0.5080 - val_loss: 1.3469 - val_act_output_loss: 0.2062 - val_time_output_loss: 0.6926 - val_timeR_output_loss: 0.4480\n",
      "Epoch 2/500\n",
      "388/388 - 3s - loss: 1.5258 - act_output_loss: 0.2662 - time_output_loss: 0.7937 - timeR_output_loss: 0.4659 - val_loss: 1.3677 - val_act_output_loss: 0.2294 - val_time_output_loss: 0.6960 - val_timeR_output_loss: 0.4422\n",
      "Epoch 3/500\n",
      "388/388 - 3s - loss: 1.4935 - act_output_loss: 0.2530 - time_output_loss: 0.7821 - timeR_output_loss: 0.4585 - val_loss: 1.3287 - val_act_output_loss: 0.1915 - val_time_output_loss: 0.6828 - val_timeR_output_loss: 0.4544\n",
      "Epoch 4/500\n",
      "388/388 - 3s - loss: 1.4794 - act_output_loss: 0.2452 - time_output_loss: 0.7776 - timeR_output_loss: 0.4566 - val_loss: 1.3109 - val_act_output_loss: 0.1923 - val_time_output_loss: 0.6822 - val_timeR_output_loss: 0.4364\n",
      "Epoch 5/500\n",
      "388/388 - 3s - loss: 1.4678 - act_output_loss: 0.2472 - time_output_loss: 0.7652 - timeR_output_loss: 0.4554 - val_loss: 1.3185 - val_act_output_loss: 0.1929 - val_time_output_loss: 0.6754 - val_timeR_output_loss: 0.4501\n",
      "Epoch 6/500\n",
      "388/388 - 3s - loss: 1.4566 - act_output_loss: 0.2395 - time_output_loss: 0.7621 - timeR_output_loss: 0.4549 - val_loss: 1.3184 - val_act_output_loss: 0.1937 - val_time_output_loss: 0.6885 - val_timeR_output_loss: 0.4362\n",
      "Epoch 7/500\n",
      "388/388 - 3s - loss: 1.4576 - act_output_loss: 0.2418 - time_output_loss: 0.7632 - timeR_output_loss: 0.4526 - val_loss: 1.3168 - val_act_output_loss: 0.1920 - val_time_output_loss: 0.6833 - val_timeR_output_loss: 0.4415\n",
      "Epoch 8/500\n",
      "388/388 - 3s - loss: 1.4544 - act_output_loss: 0.2369 - time_output_loss: 0.7642 - timeR_output_loss: 0.4533 - val_loss: 1.3069 - val_act_output_loss: 0.1932 - val_time_output_loss: 0.6784 - val_timeR_output_loss: 0.4353\n",
      "Epoch 9/500\n",
      "388/388 - 4s - loss: 1.4469 - act_output_loss: 0.2353 - time_output_loss: 0.7590 - timeR_output_loss: 0.4526 - val_loss: 1.3151 - val_act_output_loss: 0.1921 - val_time_output_loss: 0.6879 - val_timeR_output_loss: 0.4351\n",
      "Epoch 10/500\n",
      "388/388 - 4s - loss: 1.4444 - act_output_loss: 0.2348 - time_output_loss: 0.7576 - timeR_output_loss: 0.4520 - val_loss: 1.3087 - val_act_output_loss: 0.1941 - val_time_output_loss: 0.6776 - val_timeR_output_loss: 0.4370\n",
      "Epoch 11/500\n",
      "388/388 - 4s - loss: 1.4455 - act_output_loss: 0.2332 - time_output_loss: 0.7607 - timeR_output_loss: 0.4516 - val_loss: 1.3070 - val_act_output_loss: 0.1919 - val_time_output_loss: 0.6747 - val_timeR_output_loss: 0.4403\n",
      "Epoch 12/500\n",
      "388/388 - 4s - loss: 1.4400 - act_output_loss: 0.2325 - time_output_loss: 0.7561 - timeR_output_loss: 0.4514 - val_loss: 1.3085 - val_act_output_loss: 0.1895 - val_time_output_loss: 0.6783 - val_timeR_output_loss: 0.4407\n",
      "Epoch 13/500\n",
      "388/388 - 4s - loss: 1.4382 - act_output_loss: 0.2350 - time_output_loss: 0.7526 - timeR_output_loss: 0.4507 - val_loss: 1.3009 - val_act_output_loss: 0.1900 - val_time_output_loss: 0.6762 - val_timeR_output_loss: 0.4348\n",
      "Epoch 14/500\n",
      "388/388 - 3s - loss: 1.4376 - act_output_loss: 0.2300 - time_output_loss: 0.7568 - timeR_output_loss: 0.4508 - val_loss: 1.3049 - val_act_output_loss: 0.1926 - val_time_output_loss: 0.6778 - val_timeR_output_loss: 0.4346\n",
      "Epoch 15/500\n",
      "388/388 - 3s - loss: 1.4356 - act_output_loss: 0.2279 - time_output_loss: 0.7570 - timeR_output_loss: 0.4506 - val_loss: 1.3090 - val_act_output_loss: 0.1890 - val_time_output_loss: 0.6764 - val_timeR_output_loss: 0.4437\n",
      "Epoch 16/500\n",
      "388/388 - 3s - loss: 1.4394 - act_output_loss: 0.2307 - time_output_loss: 0.7573 - timeR_output_loss: 0.4514 - val_loss: 1.2974 - val_act_output_loss: 0.1888 - val_time_output_loss: 0.6734 - val_timeR_output_loss: 0.4352\n",
      "Epoch 17/500\n",
      "388/388 - 3s - loss: 1.4344 - act_output_loss: 0.2280 - time_output_loss: 0.7557 - timeR_output_loss: 0.4507 - val_loss: 1.3004 - val_act_output_loss: 0.1914 - val_time_output_loss: 0.6742 - val_timeR_output_loss: 0.4347\n",
      "Epoch 18/500\n",
      "388/388 - 3s - loss: 1.4402 - act_output_loss: 0.2320 - time_output_loss: 0.7576 - timeR_output_loss: 0.4506 - val_loss: 1.2980 - val_act_output_loss: 0.1898 - val_time_output_loss: 0.6727 - val_timeR_output_loss: 0.4355\n",
      "Epoch 19/500\n",
      "388/388 - 3s - loss: 1.4382 - act_output_loss: 0.2314 - time_output_loss: 0.7568 - timeR_output_loss: 0.4501 - val_loss: 1.3134 - val_act_output_loss: 0.1959 - val_time_output_loss: 0.6810 - val_timeR_output_loss: 0.4365\n",
      "Epoch 20/500\n",
      "388/388 - 3s - loss: 1.4331 - act_output_loss: 0.2292 - time_output_loss: 0.7530 - timeR_output_loss: 0.4509 - val_loss: 1.2995 - val_act_output_loss: 0.1887 - val_time_output_loss: 0.6761 - val_timeR_output_loss: 0.4347\n",
      "Epoch 21/500\n",
      "388/388 - 3s - loss: 1.4304 - act_output_loss: 0.2268 - time_output_loss: 0.7534 - timeR_output_loss: 0.4502 - val_loss: 1.2975 - val_act_output_loss: 0.1897 - val_time_output_loss: 0.6739 - val_timeR_output_loss: 0.4339\n"
     ]
    }
   ],
   "source": [
    "\n",
    "if single_log:\n",
    "    model_file = csvname + '_single'\n",
    "else:\n",
    "    model_file = csvname + '_enriched'\n",
    "history, best_model_name= LSTM_model.LSTM_MODEL(X_train, y_train_a, y_train_t, y_train_tr,filename=model_file)\n",
    "# print(history.history.keys())\n",
    "\n",
    "# plt.plot(history.history['loss'])\n",
    "# plt.plot(history.history['val_loss'])\n",
    "# plt.title('model loss')\n",
    "# plt.ylabel('loss')\n",
    "# plt.xlabel('epoch')\n",
    "# plt.legend(['train', 'test'], loc='upper left')\n",
    "# plt.show()"
   ]
  },
  {
   "cell_type": "code",
   "execution_count": 8,
   "metadata": {},
   "outputs": [
    {
     "name": "stdout",
     "output_type": "stream",
     "text": [
      "1.2973741292953491\n"
     ]
    },
    {
     "data": {
      "text/plain": [
       "'model_Orders_filter_enriched.h5'"
      ]
     },
     "execution_count": 8,
     "metadata": {},
     "output_type": "execute_result"
    }
   ],
   "source": [
    "import os\n",
    "print(best_model_name.best)\n",
    "os.path.basename(best_model_name.filepath)"
   ]
  },
  {
   "cell_type": "code",
   "execution_count": 9,
   "metadata": {},
   "outputs": [
    {
     "data": {
      "image/png": "[encoded data removed]",
      "text/plain": [
       "<Figure size 640x480 with 1 Axes>"
      ]
     },
     "metadata": {},
     "output_type": "display_data"
    }
   ],
   "source": [
    "plt.plot(history.history['loss'])\n",
    "plt.plot(history.history['val_loss'])\n",
    "plt.title('model loss')\n",
    "plt.ylabel('loss')\n",
    "plt.xlabel('epoch')\n",
    "plt.legend(['train', 'test'], loc='upper left')\n",
    "plt.show()"
   ]
  },
  {
   "cell_type": "code",
   "execution_count": 11,
   "metadata": {},
   "outputs": [
    {
     "name": "stdout",
     "output_type": "stream",
     "text": [
      "68/68 [==============================] - 1s 5ms/step\n",
      "2.6094423694181086\n",
      "3.1892754161994548\n",
      "4.793243016755157\n",
      "8.095306273492842\n"
     ]
    }
   ],
   "source": [
    "from keras.models import load_model\n",
    "from jellyfish import damerau_levenshtein_distance, levenshtein_distance\n",
    "import pandas as pd\n",
    "import distance\n",
    "\n",
    "modelname = os.path.basename(best_model_name.filepath)\n",
    "model = load_model(f'./output_files/models/{modelname}')\n",
    "\n",
    "X_test,y_test_a, y_test_t, y_test_tr = inbu.generating_inputs(OCEL=ocel_test,\n",
    "                                                                  num_of_features=num_of_features,\n",
    "                                                                  max_trace_length=max_trace_length,\n",
    "                                                                  taf=target_act_feat,\n",
    "                                                                  act=act_feat,\n",
    "                                                                  custf=cust_feat,\n",
    "                                                                  divisor_next=divisor,\n",
    "                                                                  divisor_since=divisor2,\n",
    "                                                                  divisor_remaining=divisorTR, \n",
    "                                                                  single= single_log,\n",
    "                                                                  test = testing_other_remaining)\n",
    "\n",
    "# y_t = y_t * divisor3\n",
    "\n",
    "y = model.predict(X_test,verbose=1)\n",
    "y_char = y[0][:][:]\n",
    "y_t = y[1][:][:]\n",
    "y_tr = y[2][:][:]\n",
    "max_index_list = [np.argmax(pred) for pred in y_char]\n",
    "pred_act_list = [target_act_feat_dict.get(item, item) for item in max_index_list]\n",
    "y_t = np.maximum(y_t, 0)\n",
    "y_t1 = y_t * divisor\n",
    "y_tr1 = y_tr * divisorTR\n",
    "\n",
    "columns_to_drop = [col for col in ocel_test.columns if 'Act_' in col] + \\\n",
    "                  [col for col in ocel_test.columns if 'Cust_' in col] + \\\n",
    "                  ['Items', 'Customers', 'Packages', 'Next_Time_Since_Start',\n",
    "                   'Next_Time_Since_Midnight', 'Next_Weekday', 'In_Package',\n",
    "                   'Position', 'Time_Since_Midnight', 'Weekday', 'Amount_Items']\n",
    "\n",
    "output_ocel = ocel_test.drop(columns=columns_to_drop).copy()\n",
    "output_ocel['Pred_Activity'] = pred_act_list\n",
    "output_ocel['Pred_Time_Diff'] = y_t1\n",
    "output_ocel['Pred_Remaining_Time'] = y_tr1\n",
    "\n",
    "output_ocel['Levenshtein'] = output_ocel.apply(lambda row: 1 - levenshtein_distance(row['Pred_Activity'], row['Next_Activity']), axis=1)\n",
    "output_ocel['Damerau'] = output_ocel.apply(lambda row: 1 - (damerau_levenshtein_distance(row['Pred_Activity'], row['Next_Activity']) / max(len(row['Pred_Activity']), len(row['Next_Activity']))), axis=1)\n",
    "output_ocel['Damerau'] = output_ocel['Damerau'].clip(lower=0)\n",
    "output_ocel['Jaccard'] = output_ocel.apply(lambda row: 1 - distance.jaccard(row['Pred_Activity'], row['Next_Activity']), axis=1)\n",
    "\n",
    "output_ocel\n",
    "from sklearn import metrics\n",
    "\n",
    "\n",
    "print(metrics.mean_absolute_error(output_ocel['Pred_Time_Diff']/ (24 * 60 * 60),output_ocel['Next_Time_Diff']/ (24 * 60 * 60)))\n",
    "print(metrics.mean_absolute_error(output_ocel['Pred_Remaining_Time']/ (24 * 60 * 60),output_ocel['Next_Remaining_Time']/ (24 * 60 * 60)))\n",
    "print(metrics.mean_squared_error(output_ocel['Pred_Time_Diff']/ (24 * 60 * 60),output_ocel['Next_Time_Diff']/ (24 * 60 * 60),squared=False))\n",
    "print(metrics.mean_squared_error(output_ocel['Pred_Remaining_Time']/ (24 * 60 * 60),output_ocel['Next_Remaining_Time']/ (24 * 60 * 60),squared=False))"
   ]
  },
  {
   "cell_type": "markdown",
   "metadata": {},
   "source": [
    "2.604857336903863\n",
    "3.197816839635765\n",
    "4.759801071662072\n",
    "8.059703481044945"
   ]
  },
  {
   "cell_type": "code",
   "execution_count": 12,
   "metadata": {},
   "outputs": [
    {
     "name": "stdout",
     "output_type": "stream",
     "text": [
      "Results for Prefix Length 2:\n",
      "68/68 [==============================] - 1s 2ms/step\n",
      "Results for Prefix Length 3:\n",
      "68/68 [==============================] - 0s 2ms/step\n",
      "Results for Prefix Length 4:\n",
      "16/16 [==============================] - 0s 2ms/step\n",
      "Results for Prefix Length 5:\n",
      "4/4 [==============================] - 0s 3ms/step\n",
      "Results for Prefix Length 6:\n",
      "1/1 [==============================] - 0s 23ms/step\n",
      "Results for Prefix Length 7:\n",
      "1/1 [==============================] - 0s 20ms/step\n",
      "\n",
      "Overall Results:\n",
      "   Prefix Length  length  MAE Time Difference  MAE Remaining Time   \n",
      "0              2    2148             2.614009            3.197015  \\\n",
      "1              3    2148             2.607885            3.180248   \n",
      "2              4     510             5.332312            8.911767   \n",
      "3              5     126             6.932506           16.221071   \n",
      "4              6      31             8.119662           24.833769   \n",
      "5              7       7             9.359317           35.532071   \n",
      "\n",
      "   RMSE Time Difference  RMSE Remaining Time  \n",
      "0              4.774673             8.404218  \n",
      "1              4.801851             8.289159  \n",
      "2              8.023555            15.948854  \n",
      "3              9.468485            25.178841  \n",
      "4             10.399425            35.764634  \n",
      "5             11.163556            47.630546  \n"
     ]
    }
   ],
   "source": [
    "from jellyfish import damerau_levenshtein_distance, levenshtein_distance\n",
    "import pandas as pd\n",
    "import distance\n",
    "from sklearn import metrics\n",
    "\n",
    "# Generate inputs with varying prefix lengths\n",
    "prefix_lengths = range(2, max_trace_length-1)  # List of prefix lengths to consider\n",
    "results = []\n",
    "\n",
    "for prefix_length in prefix_lengths:\n",
    "    print(f\"Results for Prefix Length {prefix_length}:\")\n",
    "    \n",
    "    # Generate inputs with the current prefix length\n",
    "    X_test, y_test_a, y_test_t, y_test_tr = inbu.generating_inputs(OCEL=ocel_test,\n",
    "                                                                  num_of_features=num_of_features,\n",
    "                                                                  max_trace_length=max_trace_length,\n",
    "                                                                  taf=target_act_feat,\n",
    "                                                                  act=act_feat,\n",
    "                                                                  custf=cust_feat,\n",
    "                                                                  divisor_next=divisor,\n",
    "                                                                  divisor_since=divisor2,\n",
    "                                                                  divisor_remaining=divisorTR,\n",
    "                                                                  single=single_log,\n",
    "                                                                  prefix_length=prefix_length,\n",
    "                                                                  test = testing_other_remaining)\n",
    "\n",
    "    # Make predictions with the model\n",
    "    y = model.predict(X_test, verbose=1)\n",
    "    y_char = y[0][:][:]\n",
    "    y_t = y[1][:][:]\n",
    "    y_tr = y[2][:][:]\n",
    "\n",
    "    max_index_list = [np.argmax(pred) for pred in y_char]\n",
    "    pred_act_list = [target_act_feat_dict.get(item, item) for item in max_index_list]\n",
    "    y_t = np.maximum(y_t, 0)\n",
    "    y_t1 = y_t * divisor\n",
    "    y_tr1 = y_tr * divisorTR\n",
    "\n",
    "    columns_to_drop = [col for col in ocel_test.columns if 'Act_' in col] + \\\n",
    "                      [col for col in ocel_test.columns if 'Cust_' in col] + \\\n",
    "                      ['Items', 'Customers', 'Packages', 'Next_Time_Since_Start',\n",
    "                       'Next_Time_Since_Midnight', 'Next_Weekday', 'In_Package',\n",
    "                       'Position', 'Time_Since_Midnight', 'Weekday', 'Amount_Items']\n",
    "    trace_length = ocel_test['Trace_Len'].values\n",
    "    output_ocel = ocel_test[trace_length >= prefix_length].reset_index(drop= True).drop(columns=columns_to_drop).copy()\n",
    "    output_ocel['Pred_Activity'] = pred_act_list\n",
    "    output_ocel['Pred_Time_Diff'] = y_t1\n",
    "    output_ocel['Pred_Remaining_Time'] = y_tr1\n",
    "\n",
    "    output_ocel['Levenshtein'] = output_ocel.apply(lambda row: 1 - levenshtein_distance(row['Pred_Activity'], row['Next_Activity']), axis=1)\n",
    "    output_ocel['Damerau'] = output_ocel.apply(lambda row: 1 - (damerau_levenshtein_distance(row['Pred_Activity'], row['Next_Activity']) / max(len(row['Pred_Activity']), len(row['Next_Activity']))), axis=1)\n",
    "    output_ocel['Damerau'] = output_ocel['Damerau'].clip(lower=0)\n",
    "    output_ocel['Jaccard'] = output_ocel.apply(lambda row: 1 - distance.jaccard(row['Pred_Activity'], row['Next_Activity']), axis=1)\n",
    "\n",
    "    mae_time_diff = metrics.mean_absolute_error(output_ocel['Pred_Time_Diff']/ (24 * 60 * 60), output_ocel['Next_Time_Diff']/ (24 * 60 * 60)) \n",
    "    mae_remaining_time = metrics.mean_absolute_error(output_ocel['Pred_Remaining_Time']/ (24 * 60 * 60), output_ocel['Next_Remaining_Time']/ (24 * 60 * 60)) \n",
    "    rmse_time_diff = metrics.mean_squared_error(output_ocel['Pred_Time_Diff']/ (24 * 60 * 60), output_ocel['Next_Time_Diff']/ (24 * 60 * 60), squared=False) \n",
    "    rmse_remaining_time = metrics.mean_squared_error(output_ocel['Pred_Remaining_Time']/ (24 * 60 * 60), output_ocel['Next_Remaining_Time']/ (24 * 60 * 60), squared=False) \n",
    "\n",
    "    # Store the results for the current prefix length\n",
    "    results.append({\n",
    "        'Prefix Length': prefix_length,\n",
    "        'length': len(y_tr),\n",
    "        'MAE Time Difference': mae_time_diff,\n",
    "        'MAE Remaining Time': mae_remaining_time,\n",
    "        'RMSE Time Difference': rmse_time_diff,\n",
    "        'RMSE Remaining Time': rmse_remaining_time\n",
    "    })\n",
    "\n",
    "    # Output additional values based on Case_ID and prefix length\n",
    "    for case_id in output_ocel['Case_ID'].unique():\n",
    "        case_data = output_ocel[output_ocel['Case_ID'] == case_id]\n",
    "        trace_length = len(case_data)\n",
    "        if prefix_length <= trace_length:\n",
    "            # print(f\"\\nAdditional values for Prefix Length {prefix_length} and Case ID {case_id}:\")\n",
    "            case_data_prefix = case_data[:prefix_length]\n",
    "            #print(case_data_prefix.to_string(index=False))\n",
    "            \n",
    "            mae_time_diff_case = metrics.mean_absolute_error(case_data_prefix['Pred_Time_Diff']/ (24 * 60 * 60), case_data_prefix['Next_Time_Diff']/ (24 * 60 * 60))\n",
    "            mae_remaining_time_case = metrics.mean_absolute_error(case_data_prefix['Pred_Remaining_Time']/ (24 * 60 * 60), case_data_prefix['Next_Remaining_Time']/ (24 * 60 * 60))\n",
    "            rmse_time_diff_case = metrics.mean_squared_error(case_data_prefix['Pred_Time_Diff']/ (24 * 60 * 60), case_data_prefix['Next_Time_Diff']/ (24 * 60 * 60), squared=False)\n",
    "            rmse_remaining_time_case = metrics.mean_squared_error(case_data_prefix['Pred_Remaining_Time']/ (24 * 60 * 60), case_data_prefix['Next_Remaining_Time']/ (24 * 60 * 60), squared=False)\n",
    "            \n",
    "            # print(f\"\\nMetrics for Prefix Length {prefix_length} and Case ID {case_id}:\")\n",
    "            # print(\"MAE Time Difference:\", mae_time_diff_case)\n",
    "            # print(\"MAE Remaining Time:\", mae_remaining_time_case)\n",
    "            # print(\"RMSE Time Difference:\", rmse_time_diff_case)\n",
    "            # print(\"RMSE Remaining Time:\", rmse_remaining_time_case)\n",
    "\n",
    "# Output the overall results\n",
    "df_results = pd.DataFrame(results)\n",
    "print(\"\\nOverall Results:\")\n",
    "print(df_results)\n"
   ]
  },
  {
   "cell_type": "markdown",
   "metadata": {},
   "source": [
    "Overall Results:\n",
    "   Prefix Length  length  MAE Time Difference  MAE Remaining Time   \n",
    "0              2    2148             2.618387            3.210506  \\\n",
    "1              3    2148             2.610200            3.178392   \n",
    "2              4     510             5.189373            8.829667   \n",
    "3              5     126             6.830172           16.141236   \n",
    "4              6      31             7.683536           24.763984   \n",
    "5              7       7             8.797930           35.491213   \n",
    "\n",
    "   RMSE Time Difference  RMSE Remaining Time  \n",
    "0              4.798312             8.495652  \n",
    "1              4.756645             8.264313  \n",
    "2              7.870040            15.821624  \n",
    "3              9.429331            25.044045  \n",
    "4             10.219038            35.647287  \n",
    "5             11.258677            47.561489 "
   ]
  }
 ],
 "metadata": {
  "kernelspec": {
   "display_name": "base",
   "language": "python",
   "name": "python3"
  },
  "language_info": {
   "codemirror_mode": {
    "name": "ipython",
    "version": 3
   },
   "file_extension": ".py",
   "mimetype": "text/x-python",
   "name": "python",
   "nbconvert_exporter": "python",
   "pygments_lexer": "ipython3",
   "version": "3.9.16"
  },
  "orig_nbformat": 4
 },
 "nbformat": 4,
 "nbformat_minor": 2
}
